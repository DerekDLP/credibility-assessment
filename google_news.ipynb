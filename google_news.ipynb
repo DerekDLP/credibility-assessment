{
 "cells": [
  {
   "cell_type": "code",
   "execution_count": null,
   "id": "65debb5d-6d11-4f7f-94de-9d36c3734bfc",
   "metadata": {},
   "outputs": [],
   "source": [
    "!pip install selenium\n",
    "!pip install wheel\n",
    "!pip install pandas"
   ]
  },
  {
   "cell_type": "code",
   "execution_count": null,
   "id": "90d42b9a-7711-4d99-9e8f-774d5e5360b8",
   "metadata": {},
   "outputs": [],
   "source": [
    "from selenium.webdriver.common.by import By\n",
    "from selenium import webdriver\n",
    "from selenium.webdriver.chrome.options import Options\n",
    "from time import sleep\n",
    "from selenium.webdriver.common.by import By\n",
    "from selenium.webdriver.support.ui import WebDriverWait\n",
    "from selenium.webdriver.support import expected_conditions as EC\n",
    "from selenium.common.exceptions import TimeoutException, WebDriverException\n",
    "import pandas as pd\n",
    "import numpy as np"
   ]
  },
  {
   "cell_type": "code",
   "execution_count": null,
   "id": "60c64bfc-adcc-4acb-b91a-182467e843b8",
   "metadata": {},
   "outputs": [],
   "source": [
    "driver = webdriver.Chrome()"
   ]
  },
  {
   "cell_type": "code",
   "execution_count": null,
   "id": "02222ba5-9530-4898-a98a-13d11980a290",
   "metadata": {},
   "outputs": [],
   "source": [
    "data=[]"
   ]
  },
  {
   "cell_type": "code",
   "execution_count": null,
   "id": "5f003fa6-137d-4084-8638-8dce46d3c6d0",
   "metadata": {},
   "outputs": [],
   "source": [
    "driver.get(\"https://www.google.com/search?q=google+news&tbm=nws&sxsrf=ALiCzsbFAfb9PxldUzm_BVkSxSyWoM6lIQ:1671006952113&ei=6IqZY5XCBsqmmAXKmLzwAw&start=0&sa=N&ved=2ahUKEwiV1rD-2fj7AhVKE6YKHUoMDz44WhDy0wN6BAgBEAQ&biw=880&bih=969&dpr=1\")"
   ]
  },
  {
   "cell_type": "code",
   "execution_count": null,
   "id": "156ad043-16fe-4a93-9ca4-92138aebbac4",
   "metadata": {},
   "outputs": [],
   "source": [
    "def get_news(): \n",
    "    for news in driver.find_elements(By.XPATH, '//div[@class =\"SoaBEf\"]'):\n",
    "        title = news.find_element(By.XPATH,'.//div[@class =\"mCBkyc ynAwRc MBeuO nDgy9d\"]').text\n",
    "        source = news.find_element(By.XPATH,'.//span').text\n",
    "        duration = news.find_element(By.XPATH,'.//div[@class = \"OSrXXb ZE0LJd YsWzw\"]/span').text\n",
    "        description = news.find_element(By.XPATH, './/div[@class=\"GI74Re nDgy9d\"]').text\n",
    "        link = news.find_element(By.XPATH, './/a[@class=\"WlydOe\"]').get_attribute('href')\n",
    "        data.append([title,source,duration,description,link])\n",
    "    while True:  \n",
    "        try:\n",
    "            element = WebDriverWait(driver, 20).until(\n",
    "                EC.presence_of_element_located((By.XPATH, '//*[text()=\"Next\"]')))\n",
    "            element.click()\n",
    "            sleep(6)\n",
    "            get_news()\n",
    "        except (TimeoutException, WebDriverException):\n",
    "            print(\"Last page reached\")\n",
    "            break\n",
    "    driver.quit()"
   ]
  },
  {
   "cell_type": "code",
   "execution_count": null,
   "id": "7d172455-12c6-43d6-8c31-e134428be7db",
   "metadata": {},
   "outputs": [],
   "source": [
    "get_news()"
   ]
  },
  {
   "cell_type": "code",
   "execution_count": null,
   "id": "fabc4d32-3d5a-48d0-a5f2-2aeb7f290168",
   "metadata": {},
   "outputs": [],
   "source": [
    "print(data)"
   ]
  },
  {
   "cell_type": "code",
   "execution_count": null,
   "id": "0972c1c5-ea78-45ce-bcab-55339caf9a04",
   "metadata": {},
   "outputs": [],
   "source": [
    "df = pd.DataFrame(data, columns=['Title','Source','Duration','Description','Link'])"
   ]
  },
  {
   "cell_type": "code",
   "execution_count": null,
   "id": "3676fad2-5f6a-4d22-b2a2-79b2df3bd415",
   "metadata": {},
   "outputs": [],
   "source": [
    "df.head()"
   ]
  },
  {
   "cell_type": "code",
   "execution_count": null,
   "id": "07b9fad7-c98d-4b8d-95ed-83e70d594bed",
   "metadata": {},
   "outputs": [],
   "source": [
    "df.to_csv('Google_News.csv',index=False)"
   ]
  },
  {
   "cell_type": "code",
   "execution_count": null,
   "id": "54d9d378-5fec-44cf-94d1-219351633339",
   "metadata": {},
   "outputs": [],
   "source": []
  }
 ],
 "metadata": {
  "kernelspec": {
   "display_name": "Python 3 (ipykernel)",
   "language": "python",
   "name": "python3"
  },
  "language_info": {
   "codemirror_mode": {
    "name": "ipython",
    "version": 3
   },
   "file_extension": ".py",
   "mimetype": "text/x-python",
   "name": "python",
   "nbconvert_exporter": "python",
   "pygments_lexer": "ipython3",
   "version": "3.8.0"
  }
 },
 "nbformat": 4,
 "nbformat_minor": 5
}
